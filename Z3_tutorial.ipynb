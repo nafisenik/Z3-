{
  "nbformat": 4,
  "nbformat_minor": 0,
  "metadata": {
    "colab": {
      "provenance": [],
      "toc_visible": true,
      "include_colab_link": true
    },
    "kernelspec": {
      "name": "python3",
      "display_name": "Python 3"
    },
    "language_info": {
      "name": "python"
    }
  },
  "cells": [
    {
      "cell_type": "markdown",
      "metadata": {
        "id": "view-in-github",
        "colab_type": "text"
      },
      "source": [
        "<a href=\"https://colab.research.google.com/github/nafisenik/Z3-/blob/main/Z3_tutorial.ipynb\" target=\"_parent\"><img src=\"https://colab.research.google.com/assets/colab-badge.svg\" alt=\"Open In Colab\"/></a>"
      ]
    },
    {
      "cell_type": "markdown",
      "source": [
        "### Install Python Package\n",
        "\n",
        "\n"
      ],
      "metadata": {
        "id": "xMZJMav2yfpG"
      }
    },
    {
      "cell_type": "code",
      "execution_count": null,
      "metadata": {
        "colab": {
          "base_uri": "https://localhost:8080/"
        },
        "id": "mA_eoM17sA1p",
        "outputId": "abedb8c6-c106-4faf-de44-1cae58519a88"
      },
      "outputs": [
        {
          "output_type": "stream",
          "name": "stdout",
          "text": [
            "Looking in indexes: https://pypi.org/simple, https://us-python.pkg.dev/colab-wheels/public/simple/\n",
            "Collecting z3-solver\n",
            "  Downloading z3_solver-4.11.2.0-py2.py3-none-manylinux1_x86_64.whl (53.8 MB)\n",
            "\u001b[K     |████████████████████████████████| 53.8 MB 225 bytes/s \n",
            "\u001b[?25hInstalling collected packages: z3-solver\n",
            "Successfully installed z3-solver-4.11.2.0\n"
          ]
        }
      ],
      "source": [
        "!pip install z3-solver"
      ]
    },
    {
      "cell_type": "markdown",
      "source": [
        "### Import Library"
      ],
      "metadata": {
        "id": "-BObvf_RyoyD"
      }
    },
    {
      "cell_type": "code",
      "source": [
        "from z3 import *"
      ],
      "metadata": {
        "id": "xNzHtXN-sGac"
      },
      "execution_count": null,
      "outputs": []
    },
    {
      "cell_type": "markdown",
      "source": [
        "### Example 1 (Solve)\n",
        "- check satisfiability of this statement: (x + y < 1) ∧ (0 < x) ∧ (0 < y)\n",
        "- solve this statement: x > 2 and y < 10 and x + 2*y == 7"
      ],
      "metadata": {
        "id": "xveOHAA2ys62"
      }
    },
    {
      "cell_type": "code",
      "source": [
        "x = Real('x')   # creates a real variable named 'x'\n",
        "y = Real('y')\t# creates a real variable named 'y'\n",
        "\n",
        "# solve() is a simple function for creating demonstrations.\n",
        "solve(x+y<1, 0<x, 0<y)"
      ],
      "metadata": {
        "colab": {
          "base_uri": "https://localhost:8080/"
        },
        "id": "Agzhr-BxsazJ",
        "outputId": "d9143289-ef1f-4a66-d078-4135fc0c5a97"
      },
      "execution_count": null,
      "outputs": [
        {
          "output_type": "stream",
          "name": "stdout",
          "text": [
            "[y = 1/3, x = 1/3]\n"
          ]
        }
      ]
    },
    {
      "cell_type": "code",
      "source": [
        "# Rational numbers can also be displayed in decimal notation.\n",
        "\n",
        "set_option(rational_to_decimal=True) \n",
        "set_option(precision=10)\n",
        "\n",
        "solve(x+y<1, 0<x, 0<y)"
      ],
      "metadata": {
        "colab": {
          "base_uri": "https://localhost:8080/"
        },
        "id": "NGF1lehrDzKR",
        "outputId": "78d4511c-c98a-4098-9e3f-fcbb648e15ac"
      },
      "execution_count": null,
      "outputs": [
        {
          "output_type": "stream",
          "name": "stdout",
          "text": [
            "[y = 0.3333333333?, x = 0.3333333333?]\n"
          ]
        }
      ]
    },
    {
      "cell_type": "code",
      "source": [
        "set_option(rational_to_decimal=False) # Back to noramal :)"
      ],
      "metadata": {
        "id": "IQkBDOUlD6YA"
      },
      "execution_count": null,
      "outputs": []
    },
    {
      "cell_type": "code",
      "source": [
        "# A system of constraints may not have a solution. In this case, we say the \n",
        "\n",
        "x, y= Ints('x y')   \n",
        "\n",
        "solve(x+y<1, 0<x, 0<y)"
      ],
      "metadata": {
        "colab": {
          "base_uri": "https://localhost:8080/"
        },
        "id": "YBkUv0u6Epr3",
        "outputId": "b15d291c-1765-483e-c29d-73fc8210448c"
      },
      "execution_count": null,
      "outputs": [
        {
          "output_type": "stream",
          "name": "stdout",
          "text": [
            "no solution\n"
          ]
        }
      ]
    },
    {
      "cell_type": "code",
      "source": [
        "solve(x > 2, y < 10, x + 2*y == 7)"
      ],
      "metadata": {
        "colab": {
          "base_uri": "https://localhost:8080/"
        },
        "id": "kCohYcRczDrD",
        "outputId": "bbe94e56-7978-4348-aeae-88e52f1932fd"
      },
      "execution_count": null,
      "outputs": [
        {
          "output_type": "stream",
          "name": "stdout",
          "text": [
            "[y = 0, x = 7]\n"
          ]
        }
      ]
    },
    {
      "cell_type": "markdown",
      "source": [
        "### Example 2 (Simplify)"
      ],
      "metadata": {
        "id": "gyjCqGYuFrwh"
      }
    },
    {
      "cell_type": "code",
      "source": [
        "x = Int('x')\n",
        "y = Int('y')\n",
        "print (simplify(x + y + 2*x + 3))\n",
        "print (simplify(x < y + x + 2))\n",
        "print (simplify(And(x + 1 >= 3, x**2 + x**2 + y**2 + 2 >= 5)))"
      ],
      "metadata": {
        "colab": {
          "base_uri": "https://localhost:8080/"
        },
        "id": "6pc29UvKT_qg",
        "outputId": "6eec6cf7-a394-4ce6-97fc-a39f44687a62"
      },
      "execution_count": null,
      "outputs": [
        {
          "output_type": "stream",
          "name": "stdout",
          "text": [
            "3 + 3*x + y\n",
            "Not(y <= -2)\n",
            "And(x >= 2, 2*x**2 + y**2 >= 3)\n"
          ]
        }
      ]
    },
    {
      "cell_type": "markdown",
      "source": [
        "### Example 3 (Logic and IF)\n",
        "- $ (p ⇒ q) ∧ (r = ¬q) ∧ (¬p ∨ r) $"
      ],
      "metadata": {
        "id": "KP_uPSJzKYQI"
      }
    },
    {
      "cell_type": "code",
      "source": [
        "p = Bool('p')\n",
        "q = Bool('q')\n",
        "r = Bool('r')\n",
        "solve(Implies(p, q), r == Not(q), Or(Not(p), r))"
      ],
      "metadata": {
        "colab": {
          "base_uri": "https://localhost:8080/"
        },
        "id": "6PQz62z9cO8V",
        "outputId": "9e552a21-4c86-4762-845a-64ed8c8a544e"
      },
      "execution_count": null,
      "outputs": [
        {
          "output_type": "stream",
          "name": "stdout",
          "text": [
            "[q = True, p = False, r = False]\n"
          ]
        }
      ]
    },
    {
      "cell_type": "code",
      "source": [
        "#Create a Z3 if-then-else expression.\n",
        "x = Int('x')\n",
        "y = Int('y')\n",
        "max = If(x > y, x, y)\n",
        "print(max)"
      ],
      "metadata": {
        "colab": {
          "base_uri": "https://localhost:8080/"
        },
        "id": "vXSv221Gcb4K",
        "outputId": "945dbdf9-1fb1-4c54-d13d-dde48664ae80"
      },
      "execution_count": null,
      "outputs": [
        {
          "output_type": "stream",
          "name": "stdout",
          "text": [
            "If(x > y, x, y)\n"
          ]
        }
      ]
    },
    {
      "cell_type": "code",
      "source": [
        "solve(max==5, x==5)"
      ],
      "metadata": {
        "colab": {
          "base_uri": "https://localhost:8080/"
        },
        "id": "gM5x7RYgczeU",
        "outputId": "96f7c19b-fae7-402b-ff6a-3d49f0dbd850"
      },
      "execution_count": null,
      "outputs": [
        {
          "output_type": "stream",
          "name": "stdout",
          "text": [
            "[y = 5, x = 5]\n"
          ]
        }
      ]
    },
    {
      "cell_type": "code",
      "source": [
        "solve(max==6, x==5)"
      ],
      "metadata": {
        "colab": {
          "base_uri": "https://localhost:8080/"
        },
        "id": "vOWd_uSrdOYN",
        "outputId": "037e5768-83eb-4944-a1c4-3124c05db3a4"
      },
      "execution_count": null,
      "outputs": [
        {
          "output_type": "stream",
          "name": "stdout",
          "text": [
            "[y = 6, x = 5]\n"
          ]
        }
      ]
    },
    {
      "cell_type": "code",
      "source": [
        "solve(max==4, x==5)"
      ],
      "metadata": {
        "colab": {
          "base_uri": "https://localhost:8080/"
        },
        "id": "fbNG72vRdOKN",
        "outputId": "f05e2e61-3707-4bff-91c8-d3b0d7ecc76a"
      },
      "execution_count": null,
      "outputs": [
        {
          "output_type": "stream",
          "name": "stdout",
          "text": [
            "no solution\n"
          ]
        }
      ]
    },
    {
      "cell_type": "markdown",
      "source": [
        "### Example 4 (Check, Model)"
      ],
      "metadata": {
        "id": "vmBls9PQODA7"
      }
    },
    {
      "cell_type": "code",
      "source": [
        "x = Int('x')\n",
        "y = Int('y')\n",
        "\n",
        "\n",
        "s = Solver()\n",
        "s.add(x+y <= 2)   #Assert constraint into the solver.\n",
        "#s.add(x+y < 1)  \n",
        "s.add(0<x)\n",
        "s.add(0<y)\n",
        "\n",
        "\n",
        "#The method check() solves the asserted constraints. \n",
        "#The result is sat (satisfiable) if a solution was found. \n",
        "#The result is unsat (unsatisfiable) if no solution exists. \n",
        "#If solver fails to solve a system of constraints then \"unknown\" is returned. \n",
        "result = s.check()  \n",
        "print(result)\n",
        "\n",
        "\n",
        "# model() return a model for the last `check()`.\n",
        "# This function raises an exception if\n",
        "#a model is not available (e.g., last `check()` returned unsat).  \n",
        "if(result == unsat):\n",
        "\tprint(\"unsat output\")\n",
        "elif (result == sat):\n",
        "\tm = s.model() \n",
        "\n",
        "\tprint(m)\n",
        "\n",
        "\tprint(\"Values returned \\n\")\n",
        "\tprint(\"x = \",m[x])\n",
        "\tprint(\"y = \",m[y])\n",
        "else:\n",
        "  print(\"failed to solve\")"
      ],
      "metadata": {
        "colab": {
          "base_uri": "https://localhost:8080/"
        },
        "id": "SfUrnvvLNwjF",
        "outputId": "9b5c22e6-bb58-4fbf-88f9-d0e1cbc2b384"
      },
      "execution_count": null,
      "outputs": [
        {
          "output_type": "stream",
          "name": "stdout",
          "text": [
            "sat\n",
            "[x = 1, y = 1]\n",
            "Values returned \n",
            "\n",
            "x =  1\n",
            "y =  1\n"
          ]
        }
      ]
    },
    {
      "cell_type": "markdown",
      "source": [
        "- De Morgan's Law:\n",
        "  - $ ¬(p ∨ q) ⇒ (¬p ∧ ¬q) $"
      ],
      "metadata": {
        "id": "CKu65vhwgQOl"
      }
    },
    {
      "cell_type": "code",
      "source": [
        "##De Morgan's Law\n",
        "\n",
        "p = Bool('p')\n",
        "q = Bool('q')\n",
        "\n",
        "s = Solver()\n",
        "\n",
        "f = Implies( Not(Or(p,q)), And(Not(p),Not(q)) )\n",
        "\n",
        "s.add(Not(f))\n",
        "\n",
        "if(s.check() == unsat):\n",
        "\tprint(\"Proved\")\n",
        "\t"
      ],
      "metadata": {
        "colab": {
          "base_uri": "https://localhost:8080/"
        },
        "id": "fvs4oX9RPLSn",
        "outputId": "ce7973db-622a-468f-df18-d6f2d7959a1f"
      },
      "execution_count": null,
      "outputs": [
        {
          "output_type": "stream",
          "name": "stdout",
          "text": [
            "Proved\n"
          ]
        }
      ]
    },
    {
      "cell_type": "markdown",
      "source": [
        "### Example 5 (All Constraints)"
      ],
      "metadata": {
        "id": "tj2YojoePnYX"
      }
    },
    {
      "cell_type": "code",
      "source": [
        "x = Real('x')\n",
        "y = Real('y')\n",
        "s = Solver()\n",
        "s.add(x > 1, y > 1, Or(x + y > 3, x - y < 2))\n",
        "print (\"asserted constraints...\")\n",
        "for c in s.assertions():\n",
        "    print(c)\n",
        "    "
      ],
      "metadata": {
        "colab": {
          "base_uri": "https://localhost:8080/"
        },
        "id": "i2EVhKq4Ps1h",
        "outputId": "8834fb96-610d-44db-ce2c-0a366eef89cc"
      },
      "execution_count": null,
      "outputs": [
        {
          "output_type": "stream",
          "name": "stdout",
          "text": [
            "asserted constraints...\n",
            "x > 1\n",
            "y > 1\n",
            "Or(x + y > 3, x - y < 2)\n"
          ]
        }
      ]
    },
    {
      "cell_type": "markdown",
      "source": [
        "### Example 6 (Push, Pop)"
      ],
      "metadata": {
        "id": "mfG5dvKlQJ3o"
      }
    },
    {
      "cell_type": "code",
      "source": [
        "p, q, r = Bools('p q r')\n",
        "s = Solver()\n",
        "\n",
        "s.add(Implies(p, q))\n",
        "s.add(Not(q))\n",
        "\n",
        "print(s.check())"
      ],
      "metadata": {
        "colab": {
          "base_uri": "https://localhost:8080/"
        },
        "id": "YO4owKXOi3bx",
        "outputId": "3a8b20f3-06f4-47f5-fca9-487d72abde43"
      },
      "execution_count": null,
      "outputs": [
        {
          "output_type": "stream",
          "name": "stdout",
          "text": [
            "sat\n"
          ]
        }
      ]
    },
    {
      "cell_type": "code",
      "source": [
        "#Create a backtracking point.\n",
        "s.push()\n",
        "\n",
        "print (\"After Push : asserted constraints...\")\n",
        "for c in s.assertions():\n",
        "    print(c)"
      ],
      "metadata": {
        "colab": {
          "base_uri": "https://localhost:8080/"
        },
        "id": "oF2HKLzSjA9c",
        "outputId": "41f7464b-9420-41b2-ec76-1699f8f93670"
      },
      "execution_count": null,
      "outputs": [
        {
          "output_type": "stream",
          "name": "stdout",
          "text": [
            "After Push : asserted constraints...\n",
            "Implies(p, q)\n",
            "Not(q)\n"
          ]
        }
      ]
    },
    {
      "cell_type": "code",
      "source": [
        "s.add(p)\n",
        "print(s.check())\n",
        "\n",
        "print (\"After New constraint add : asserted constraints...\")\n",
        "for c in s.assertions():\n",
        "    print(c)"
      ],
      "metadata": {
        "colab": {
          "base_uri": "https://localhost:8080/"
        },
        "id": "XYZGEH49jLXh",
        "outputId": "a70884e4-b8ce-4ce3-9d7f-fa740e65292d"
      },
      "execution_count": null,
      "outputs": [
        {
          "output_type": "stream",
          "name": "stdout",
          "text": [
            "unsat\n",
            "After New constraint add : asserted constraints...\n",
            "Implies(p, q)\n",
            "Not(q)\n",
            "p\n"
          ]
        }
      ]
    },
    {
      "cell_type": "code",
      "source": [
        "#pop(num) Backtrack num backtracking points.\n",
        "s.pop()\n",
        "print(s.check())\n",
        "\n",
        "print (\"Final : asserted constraints...\")\n",
        "for c in s.assertions():\n",
        "    print(c)"
      ],
      "metadata": {
        "id": "N-BZKENIQPmB",
        "colab": {
          "base_uri": "https://localhost:8080/"
        },
        "outputId": "79594ce0-6e9f-402a-b2e8-421b6814e650"
      },
      "execution_count": null,
      "outputs": [
        {
          "output_type": "stream",
          "name": "stdout",
          "text": [
            "sat\n",
            "Final : asserted constraints...\n",
            "Implies(p, q)\n",
            "Not(q)\n"
          ]
        }
      ]
    },
    {
      "cell_type": "markdown",
      "source": [
        "### Example 7 (All Solutions)"
      ],
      "metadata": {
        "id": "FF3KvlDUQbiP"
      }
    },
    {
      "cell_type": "code",
      "source": [
        "\n",
        "x, y = Ints('x y')\n",
        "s = Solver()\n",
        "\n",
        "s.add(x >= 0)\n",
        "s.add(y >= 0)\n",
        "s.add(x+y == 5)\n",
        "\n",
        "while s.check() == sat:\n",
        "\tm = s.model()\n",
        "\tprint(\"x = \",m[x], \" y =\", m[y])\n",
        "\ts.add(Or(x != m[x], y != m[y]))"
      ],
      "metadata": {
        "colab": {
          "base_uri": "https://localhost:8080/"
        },
        "id": "oveNG9NlQgUe",
        "outputId": "aca04594-02ab-4065-dd54-1993dca17f66"
      },
      "execution_count": null,
      "outputs": [
        {
          "output_type": "stream",
          "name": "stdout",
          "text": [
            "x =  5  y = 0\n",
            "x =  4  y = 1\n",
            "x =  3  y = 2\n",
            "x =  2  y = 3\n",
            "x =  1  y = 4\n",
            "x =  0  y = 5\n"
          ]
        }
      ]
    },
    {
      "cell_type": "code",
      "source": [
        "print (\"asserted constraints...\")\n",
        "for c in s.assertions():\n",
        "    print(c)"
      ],
      "metadata": {
        "colab": {
          "base_uri": "https://localhost:8080/"
        },
        "id": "-DEAeU6yk6Bq",
        "outputId": "78112306-9ff9-411a-a611-47aa04648b2c"
      },
      "execution_count": null,
      "outputs": [
        {
          "output_type": "stream",
          "name": "stdout",
          "text": [
            "asserted constraints...\n",
            "x >= 0\n",
            "y >= 0\n",
            "x + y == 5\n",
            "Or(5 != x, 0 != y)\n",
            "Or(4 != x, 1 != y)\n",
            "Or(3 != x, 2 != y)\n",
            "Or(2 != x, 3 != y)\n",
            "Or(1 != x, 4 != y)\n",
            "Or(0 != x, 5 != y)\n"
          ]
        }
      ]
    },
    {
      "cell_type": "markdown",
      "source": [
        "### Example 8 (Function)"
      ],
      "metadata": {
        "id": "LAXsYcjbRGM3"
      }
    },
    {
      "cell_type": "code",
      "source": [
        "x = Int('x')\n",
        "y = Int('y')\n",
        "f = Function('f', IntSort(), IntSort()) ## f : N -> N\n",
        "solve(f(f(x)) == x, f(x) == y, x != y)"
      ],
      "metadata": {
        "colab": {
          "base_uri": "https://localhost:8080/"
        },
        "id": "eXGGASdmlxkC",
        "outputId": "b21d8951-3452-4327-df4b-171b0b813925"
      },
      "execution_count": null,
      "outputs": [
        {
          "output_type": "stream",
          "name": "stdout",
          "text": [
            "[x = 0, y = 1, f = [1 -> 0, else -> 1]]\n"
          ]
        }
      ]
    },
    {
      "cell_type": "code",
      "source": [
        "x = Int('x')\n",
        "y = Int('y')\n",
        "f = Function('f', IntSort(), IntSort())\n",
        "s = Solver()\n",
        "s.add(f(f(x)) == x, f(x) == y, x != y)\n",
        "\n",
        "if s.check() == sat:\n",
        "\tm = s.model()\n",
        "\tprint(m)\n",
        "\tprint (\"f(f(x)) =\", m.evaluate(f(f(x))))\n",
        "\tprint (\"f(x)    =\", m.evaluate(f(x)))\n"
      ],
      "metadata": {
        "colab": {
          "base_uri": "https://localhost:8080/"
        },
        "id": "X8JVQubiRJ1n",
        "outputId": "99e15e95-7177-404b-c115-c4b525786dd9"
      },
      "execution_count": null,
      "outputs": [
        {
          "output_type": "stream",
          "name": "stdout",
          "text": [
            "[x = 0, y = 1, f = [1 -> 0, else -> 1]]\n",
            "f(f(x)) = 0\n",
            "f(x)    = 1\n"
          ]
        }
      ]
    },
    {
      "cell_type": "markdown",
      "source": [
        "### Example 9 (What Z3 Can't Do)"
      ],
      "metadata": {
        "id": "RKJDPHc2R1Zi"
      }
    },
    {
      "cell_type": "code",
      "source": [
        "# Z3 seems incredibly powerful, and it is. \n",
        "#However, you can express far more things to Z3 than it can solve. \n",
        "#I've been cherry picking problems I know it handles well.\n",
        "#As an example, factoring integers is at the heart of RSA cryptography. \n",
        "#While Z3 can factor integers, it can't magically factor even moderately big numbers."
      ],
      "metadata": {
        "id": "307mUp2lRmHC"
      },
      "execution_count": null,
      "outputs": []
    },
    {
      "cell_type": "code",
      "source": [
        "# easy\n",
        "x,y = Ints(\"x y\")\n",
        "pubkey = 3\t* 7\n",
        "solve(x * y == pubkey, x > 1, y > 1) "
      ],
      "metadata": {
        "colab": {
          "base_uri": "https://localhost:8080/"
        },
        "id": "e5omBbPXR9EH",
        "outputId": "95e39d32-c94e-4c92-b517-2f500d841257"
      },
      "execution_count": null,
      "outputs": [
        {
          "output_type": "stream",
          "name": "stdout",
          "text": [
            "[y = 7, x = 3]\n"
          ]
        }
      ]
    },
    {
      "cell_type": "code",
      "source": [
        "# hard\n",
        "x,y = Ints(\"x y\")\n",
        "pubkey = 1000000993\t* 1000001011\n",
        "solve(x * y == pubkey, x > 1, y > 1) # nope"
      ],
      "metadata": {
        "id": "EoSBiS3BSC8o",
        "colab": {
          "base_uri": "https://localhost:8080/"
        },
        "outputId": "e3298752-1cea-4422-a99b-054b49453281"
      },
      "execution_count": null,
      "outputs": [
        {
          "output_type": "stream",
          "name": "stdout",
          "text": [
            "failed to solve\n"
          ]
        }
      ]
    },
    {
      "cell_type": "markdown",
      "source": [
        "### Problem 1 (Eight Queens)\n",
        "The eight queens puzzle is the problem of placing eight chess queens on an 8x8 chessboard so that no two queens attack each other. Thus, a solution requires that no two queens share the same row, column, or diagonal.\n",
        "\n",
        "\n",
        "![image.png](data:image/png;base64,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)"
      ],
      "metadata": {
        "id": "96Wpd_YsHAkw"
      }
    },
    {
      "cell_type": "code",
      "source": [
        "# We know each queen must be in a different row.\n",
        "# So, we represent each queen by a single integer: the column position\n",
        "Q = [ Int('Q_%i' % (i + 1)) for i in range(8) ]\n",
        "\n",
        "# Each queen is in a column {1, ... 8 }\n",
        "val_c = [ And(1 <= Q[i], Q[i] <= 8) for i in range(8) ]\n",
        "\n",
        "# At most one queen per column\n",
        "col_c = [ Distinct(Q) ]\n",
        "\n",
        "# Diagonal constraint\n",
        "diag_c = [ If(i == j,\n",
        "              True,\n",
        "              And(Q[i] - Q[j] != i - j, Q[i] - Q[j] != j - i))\n",
        "           for i in range(8) for j in range(i) ]\n",
        "\n",
        "solve(val_c + col_c + diag_c)\n"
      ],
      "metadata": {
        "colab": {
          "base_uri": "https://localhost:8080/"
        },
        "id": "dK00m61zHHeH",
        "outputId": "3642eeec-d5d3-48ad-d9f1-6eca8c63cbf4"
      },
      "execution_count": null,
      "outputs": [
        {
          "output_type": "stream",
          "name": "stdout",
          "text": [
            "[Q_3 = 3,\n",
            " Q_1 = 2,\n",
            " Q_7 = 1,\n",
            " Q_8 = 4,\n",
            " Q_5 = 8,\n",
            " Q_4 = 6,\n",
            " Q_2 = 7,\n",
            " Q_6 = 5]\n"
          ]
        }
      ]
    },
    {
      "cell_type": "markdown",
      "source": [
        "![image.png](data:image/png;base64,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)"
      ],
      "metadata": {
        "id": "nrILTZK-uP4C"
      }
    },
    {
      "cell_type": "markdown",
      "source": [
        "### Problem 2 (Soduko)\n",
        "\n",
        "![image.png](data:image/png;base64,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)"
      ],
      "metadata": {
        "id": "u9IGk9WWIGw4"
      }
    },
    {
      "cell_type": "code",
      "source": [
        "# 9x9 matrix of integer variables\n",
        "X = [ [ Int(\"x_%s_%s\" % (i+1, j+1)) for j in range(9) ]\n",
        "      for i in range(9) ]\n",
        "\n",
        "# each cell contains a value in {1, ..., 9}\n",
        "cells_c  = [ And(1 <= X[i][j], X[i][j] <= 9)\n",
        "             for i in range(9) for j in range(9) ]\n",
        "\n",
        "# each row contains a digit at most once\n",
        "rows_c   = [ Distinct(X[i]) for i in range(9) ]\n",
        "\n",
        "# each column contains a digit at most once\n",
        "cols_c   = [ Distinct([ X[i][j] for i in range(9) ])\n",
        "             for j in range(9) ]\n",
        "\n",
        "# each 3x3 square contains a digit at most once\n",
        "sq_c     = [ Distinct([ X[3*i0 + i][3*j0 + j]\n",
        "                        for i in range(3) for j in range(3) ])\n",
        "             for i0 in range(3) for j0 in range(3) ]\n",
        "\n",
        "sudoku_c = cells_c + rows_c + cols_c + sq_c\n",
        "\n",
        "# sudoku instance, we use '0' for empty cells\n",
        "instance = ((0,0,0,0,9,4,0,3,0),\n",
        "            (0,0,0,5,1,0,0,0,7),\n",
        "            (0,8,9,0,0,0,0,4,0),\n",
        "            (0,0,0,0,0,0,2,0,8),\n",
        "            (0,6,0,2,0,1,0,5,0),\n",
        "            (1,0,2,0,0,0,0,0,0),\n",
        "            (0,7,0,0,0,0,5,2,0),\n",
        "            (9,0,0,0,6,5,0,0,0),\n",
        "            (0,4,0,9,7,0,0,0,0))\n",
        "\n",
        "instance_c = [ If(instance[i][j] == 0,\n",
        "                  True,\n",
        "                  X[i][j] == instance[i][j])\n",
        "               for i in range(9) for j in range(9) ]\n",
        "\n",
        "s = Solver()\n",
        "s.add(sudoku_c + instance_c)\n",
        "if s.check() == sat:\n",
        "    m = s.model()\n",
        "    r = [ [ m.evaluate(X[i][j]) for j in range(9) ]\n",
        "          for i in range(9) ]\n",
        "    print_matrix(r)\n",
        "else:\n",
        "    print (\"failed to solve\")\n"
      ],
      "metadata": {
        "colab": {
          "base_uri": "https://localhost:8080/"
        },
        "id": "9FRaineDIYqI",
        "outputId": "e81712cd-d945-4581-ddd6-4c42c8c44e26"
      },
      "execution_count": null,
      "outputs": [
        {
          "output_type": "stream",
          "name": "stdout",
          "text": [
            "[[7, 1, 5, 8, 9, 4, 6, 3, 2],\n",
            " [2, 3, 4, 5, 1, 6, 8, 9, 7],\n",
            " [6, 8, 9, 7, 2, 3, 1, 4, 5],\n",
            " [4, 9, 3, 6, 5, 7, 2, 1, 8],\n",
            " [8, 6, 7, 2, 3, 1, 9, 5, 4],\n",
            " [1, 5, 2, 4, 8, 9, 7, 6, 3],\n",
            " [3, 7, 6, 1, 4, 8, 5, 2, 9],\n",
            " [9, 2, 8, 3, 6, 5, 4, 7, 1],\n",
            " [5, 4, 1, 9, 7, 2, 3, 8, 6]]\n"
          ]
        }
      ]
    },
    {
      "cell_type": "code",
      "source": [],
      "metadata": {
        "id": "YpjrqDdTrapL"
      },
      "execution_count": null,
      "outputs": []
    }
  ]
}